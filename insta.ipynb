{
 "cells": [
  {
   "cell_type": "code",
   "execution_count": 78,
   "metadata": {},
   "outputs": [],
   "source": [
    "from selenium import webdriver\n",
    "from selenium.webdriver.common.by import By\n",
    "from selenium.webdriver.common.keys import Keys\n",
    "from selenium.webdriver.support.ui import WebDriverWait\n",
    "from selenium.webdriver.support.expected_conditions import presence_of_element_located\n",
    "from selenium.common.exceptions import NoSuchElementException\n",
    "from selenium.webdriver.chrome.service import Service\n",
    "from selenium.webdriver.support import expected_conditions as EC\n",
    "from selenium.common.exceptions import TimeoutException\n",
    "from selenium.common.exceptions import StaleElementReferenceException\n",
    "import time\n",
    "import string\n"
   ]
  },
  {
   "cell_type": "code",
   "execution_count": 79,
   "metadata": {},
   "outputs": [],
   "source": [
    "# Loading Selenium Webdriver\n",
    "driver = webdriver.Chrome()\n",
    "\n",
    "# Opening Google maps\n",
    "driver.get(\"https://www.instagram.com/accounts/login/\")\n",
    "\n",
    "time.sleep(3)\n",
    "user=driver.find_element(By.XPATH,\"//input[@aria-label='Phone number, username, or email']\")\n",
    "user.send_keys(\"user_id\")\n",
    "password=driver.find_element(By.XPATH,\"//input[@aria-label='Password']\")\n",
    "password.send_keys(\"your_password\")\n",
    "password.send_keys(Keys.ENTER)\n",
    "# Finding the search box\n"
   ]
  },
  {
   "cell_type": "code",
   "execution_count": 84,
   "metadata": {},
   "outputs": [],
   "source": [
    "search_bar=driver.find_element(By.XPATH,'//div//*[@aria-label=\"Search\"]')\n",
    "search_bar.click()\n",
    "search_user=driver.find_element(By.XPATH,\"//input[@aria-label='Search input']\")\n",
    "search_user.send_keys(\"rohitsharma45\")\n",
    "time.sleep(2)\n",
    "tab=driver.find_element(By.CLASS_NAME,'x9f619.xjbqb8w.x78zum5.x168nmei.x13lgxp2.x5pf9jr.xo71vjh.xxbr6pl.xbbxn1n.xwib8y2.x1y1aw1k.x1uhb9sk.x1plvlek.xryxfnj.x1c4vz4f.x2lah0s.xdt5ytf.xqjyukv.x1qjc9v5.x1oa3qoh.x1nhvcw1')\n",
    "tab.click()\n",
    "time.sleep(3)\n",
    "post=driver.find_elements(By.CLASS_NAME,\"_aagw\")\n",
    "\n",
    "post[1].click()\n",
    "like_button = driver.find_element(By.XPATH,\"//section//*[@aria-label='Like' or @aria-label='Unlike']\")\n",
    "like_button.click()\n",
    "# Add a comment…\n",
    "try:\n",
    "    # Wait for the element to be visible before interacting with it\n",
    "    wait = WebDriverWait(driver, 10)\n",
    "    comment = wait.until(EC.visibility_of_element_located((By.XPATH, \"//*[@aria-label='Add a comment…']\")))\n",
    "\n",
    "    # Now, interact with the element (e.g., entering text)\n",
    "    comment.send_keys(\"wowww\")\n",
    "    comment.send_keys(Keys.ENTER)\n",
    "\n",
    "except StaleElementReferenceException:\n",
    "    # If the element becomes stale, re-find the element\n",
    "    comment = driver.find_element(By.XPATH, \"//textarea[@aria-label='Add a comment…']\")\n",
    "    comment.send_keys(\"wowww\")\n",
    "    comment.send_keys(Keys.ENTER)\n",
    "\n",
    "close_button=driver.find_element(By.XPATH,'//*[@aria-label=\"Close\"]').click()"
   ]
  },
  {
   "cell_type": "code",
   "execution_count": null,
   "metadata": {},
   "outputs": [],
   "source": []
  }
 ],
 "metadata": {
  "kernelspec": {
   "display_name": "venv",
   "language": "python",
   "name": "python3"
  },
  "language_info": {
   "codemirror_mode": {
    "name": "ipython",
    "version": 3
   },
   "file_extension": ".py",
   "mimetype": "text/x-python",
   "name": "python",
   "nbconvert_exporter": "python",
   "pygments_lexer": "ipython3",
   "version": "3.9.7"
  },
  "orig_nbformat": 4
 },
 "nbformat": 4,
 "nbformat_minor": 2
}
